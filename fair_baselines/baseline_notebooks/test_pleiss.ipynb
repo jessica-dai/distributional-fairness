{
 "cells": [
  {
   "cell_type": "code",
   "execution_count": 2,
   "metadata": {},
   "outputs": [],
   "source": [
    "import numpy as np\n",
    "import pandas as pd\n",
    "\n",
    "from data import gen_adult_probs\n",
    "from eval import get_eval_single\n",
    "\n",
    "from src.bin_postprocess import f_postprocess_vectorized_adjustments\n",
    "from src.exact_solver import get_fpr, get_tpr\n",
    "\n",
    "from fairlearn.metrics import selection_rate, true_positive_rate, false_positive_rate\n",
    "\n",
    "from aif360.algorithms.postprocessing import CalibratedEqOddsPostprocessing\n",
    "from aif360.metrics import ClassificationMetric, utils\n",
    "from aif360.datasets import BinaryLabelDataset"
   ]
  },
  {
   "cell_type": "code",
   "execution_count": 4,
   "metadata": {},
   "outputs": [],
   "source": [
    "class ProbsCalibratedEqOddsPostprocessing(CalibratedEqOddsPostprocessing):\n",
    "    \n",
    "    def test_print(self):\n",
    "        print(self.cost_constraint)\n",
    "    \n",
    "    def predict_proba(self, dataset):\n",
    "        if self.seed is not None:\n",
    "            np.random.seed(self.seed)\n",
    "\n",
    "        cond_vec_priv = utils.compute_boolean_conditioning_vector(\n",
    "            dataset.protected_attributes,\n",
    "            dataset.protected_attribute_names,\n",
    "            self.privileged_groups)\n",
    "        cond_vec_unpriv = utils.compute_boolean_conditioning_vector(\n",
    "            dataset.protected_attributes,\n",
    "            dataset.protected_attribute_names,\n",
    "            self.unprivileged_groups)\n",
    "\n",
    "        unpriv_indices = (np.random.random(sum(cond_vec_unpriv))\n",
    "                       <= self.unpriv_mix_rate)\n",
    "        unpriv_new_pred = dataset.scores[cond_vec_unpriv].copy()\n",
    "        unpriv_new_pred[unpriv_indices] = self.base_rate_unpriv\n",
    "\n",
    "        priv_indices = (np.random.random(sum(cond_vec_priv))\n",
    "                     <= self.priv_mix_rate)\n",
    "        priv_new_pred = dataset.scores[cond_vec_priv].copy()\n",
    "        priv_new_pred[priv_indices] = self.base_rate_priv\n",
    "\n",
    "        dataset_new = dataset.copy(deepcopy=True)\n",
    "\n",
    "        dataset_new.scores_new = np.zeros_like(dataset.scores, dtype=np.float64)\n",
    "        dataset_new.scores_new[cond_vec_priv] = priv_new_pred\n",
    "        dataset_new.scores_new[cond_vec_unpriv] = unpriv_new_pred\n",
    "\n",
    "        # # Create labels from scores using a default threshold\n",
    "        # dataset_new.labels = np.where(dataset_new.scores >= threshold,\n",
    "        #                               dataset_new.favorable_label,\n",
    "        #                               dataset_new.unfavorable_label)\n",
    "        return dataset_new"
   ]
  },
  {
   "cell_type": "code",
   "execution_count": 5,
   "metadata": {},
   "outputs": [],
   "source": [
    "privileged_groups = [{'group': 1}]\n",
    "unprivileged_groups = [{'group': 0}]"
   ]
  },
  {
   "cell_type": "code",
   "execution_count": 104,
   "metadata": {},
   "outputs": [
    {
     "name": "stderr",
     "output_type": "stream",
     "text": [
      "A column-vector y was passed when a 1d array was expected. Please change the shape of y to (n_samples,), for example using ravel().\n"
     ]
    }
   ],
   "source": [
    "allscores = gen_adult_probs()\n",
    "ds_orig = BinaryLabelDataset(df=allscores, label_names=['label'], protected_attribute_names=['group'])\n",
    "ds_pred = ds_orig.copy()"
   ]
  },
  {
   "cell_type": "code",
   "execution_count": 99,
   "metadata": {},
   "outputs": [],
   "source": [
    "ds_pred.scores = allscores['score'].ravel().reshape(-1, 1)\n",
    "ds_pred.labels = (allscores['score'] > 0.5).astype(int).values.reshape(-1, 1)\n",
    "# ds_pred.protected_attributes = ds_pred.protected_attributes.reshape(-1)"
   ]
  },
  {
   "cell_type": "code",
   "execution_count": 43,
   "metadata": {},
   "outputs": [],
   "source": [
    "for constraint in ['fpr', 'fnr', 'weighted']:\n",
    "    prb = ProbsCalibratedEqOddsPostprocessing(unprivileged_groups, privileged_groups, cost_constraint=constraint)\n",
    "    prb.fit(ds_orig, ds_pred)\n",
    "    ret = prb.predict_proba(ds)\n",
    "    allscores[constraint] = ret.scores_new"
   ]
  },
  {
   "cell_type": "code",
   "execution_count": 44,
   "metadata": {},
   "outputs": [],
   "source": [
    "adjust = f_postprocess_vectorized_adjustments(allscores.score.values, allscores.score.values,allscores.group.values, allscores.group.values)\n",
    "allscores['adjust'] = adjust"
   ]
  },
  {
   "cell_type": "code",
   "execution_count": 45,
   "metadata": {},
   "outputs": [],
   "source": [
    "allscores['ours_fullrep'] = allscores.score.values + adjust\n",
    "tprlambda = get_tpr(allscores, 'score', 'group', 'adjust')\n",
    "fprlambda = get_fpr(allscores, 'score', 'group', 'adjust')\n",
    "allscores['ours_tpr'] = allscores.score.values + tprlambda*adjust\n",
    "allscores['ours_fpr'] = allscores.score.values + fprlambda*adjust\n",
    "allscores['ours_sketcheo'] = allscores.score.values + 0.5*(tprlambda+fprlambda)*adjust"
   ]
  },
  {
   "cell_type": "code",
   "execution_count": 46,
   "metadata": {},
   "outputs": [],
   "source": [
    "def get_05_results(probs, grp, y_te):\n",
    "    preds05 = probs > 0.5\n",
    "    prd05 = np.abs(np.mean(preds05[grp == 0]) - np.mean(preds05[grp == 1]))\n",
    "    acc05 = np.mean(preds05 == y_te)\n",
    "    tprd05 = np.abs(true_positive_rate(y_te[grp==0],preds05[grp==0]) - true_positive_rate(y_te[grp==1],preds05[grp==1]))\n",
    "    fprd05 = np.abs(false_positive_rate(y_te[grp==0],preds05[grp==0]) - false_positive_rate(y_te[grp==1],preds05[grp==1]))\n",
    "\n",
    "    return {'prd_05': prd05, 'tprd_05': tprd05, 'fprd_05': fprd05, 'acc_05': acc05}\n"
   ]
  },
  {
   "cell_type": "code",
   "execution_count": 47,
   "metadata": {},
   "outputs": [],
   "source": [
    "all_results = pd.DataFrame(columns=['method', 'avg_prd', 'avg_tprd', 'avg_eod', 'avg_acc'])\n",
    "\n",
    "method_to_name_map = {\n",
    "    'score': 'uncorrected',\n",
    "    'fpr': 'pleiss_fpr',\n",
    "    'fnr': 'pleiss_tpr',\n",
    "    'weighted': 'pleiss_weighted'\n",
    "}\n",
    "\n",
    "for method in ['score', 'fnr', 'fpr', 'weighted', 'ours_fullrep', 'ours_tpr', 'ours_fpr', 'ours_sketcheo']:\n",
    "\n",
    "    results = get_eval_single(allscores.label.values, allscores[method].values, allscores.group.values)\n",
    "    res05 = get_05_results(allscores[method].values, allscores.group.values,allscores.label.values)\n",
    "\n",
    "    all_results = all_results.append({\n",
    "        'method': method_to_name_map[method] if method in method_to_name_map else method,\n",
    "        'avg_prd': np.mean(np.abs(results['positivity_rate_differences'])),\n",
    "        'avg_tprd': np.mean(np.abs(results['tpr_differences'])),\n",
    "        'avg_eod': np.mean(results['eqodds_differences']),\n",
    "        'avg_acc': np.mean(results['acc_overall']),\n",
    "        'prd_05': res05['prd_05'],\n",
    "        'tprd_05': res05['tprd_05'],\n",
    "        'eod_05': res05['tprd_05'] + res05['fprd_05'], \n",
    "        'acc_05': res05['acc_05']\n",
    "    }, ignore_index=True)"
   ]
  },
  {
   "cell_type": "code",
   "execution_count": 50,
   "metadata": {},
   "outputs": [],
   "source": [
    "res_tmp = get_eval_single(allscores.label.values, allscores['fnr'].values, allscores.group.values)    "
   ]
  },
  {
   "cell_type": "code",
   "execution_count": 51,
   "metadata": {},
   "outputs": [
    {
     "data": {
      "text/html": [
       "<div>\n",
       "<style scoped>\n",
       "    .dataframe tbody tr th:only-of-type {\n",
       "        vertical-align: middle;\n",
       "    }\n",
       "\n",
       "    .dataframe tbody tr th {\n",
       "        vertical-align: top;\n",
       "    }\n",
       "\n",
       "    .dataframe thead th {\n",
       "        text-align: right;\n",
       "    }\n",
       "</style>\n",
       "<table border=\"1\" class=\"dataframe\">\n",
       "  <thead>\n",
       "    <tr style=\"text-align: right;\">\n",
       "      <th></th>\n",
       "      <th>thresholds</th>\n",
       "      <th>positivity_rate_differences</th>\n",
       "      <th>tpr_differences</th>\n",
       "      <th>fpr_differences</th>\n",
       "      <th>eqodds_differences</th>\n",
       "      <th>tpr_A</th>\n",
       "      <th>tpr_B</th>\n",
       "      <th>selection_A</th>\n",
       "      <th>selection_B</th>\n",
       "      <th>fpr_A</th>\n",
       "      <th>fpr_B</th>\n",
       "      <th>acc_A</th>\n",
       "      <th>acc_B</th>\n",
       "      <th>acc_overall</th>\n",
       "    </tr>\n",
       "  </thead>\n",
       "  <tbody>\n",
       "    <tr>\n",
       "      <th>0</th>\n",
       "      <td>0.00</td>\n",
       "      <td>0.156798</td>\n",
       "      <td>0.031336</td>\n",
       "      <td>0.128391</td>\n",
       "      <td>0.159727</td>\n",
       "      <td>0.981683</td>\n",
       "      <td>0.950346</td>\n",
       "      <td>0.843700</td>\n",
       "      <td>0.686903</td>\n",
       "      <td>0.783559</td>\n",
       "      <td>0.655168</td>\n",
       "      <td>0.448735</td>\n",
       "      <td>0.409932</td>\n",
       "      <td>0.435936</td>\n",
       "    </tr>\n",
       "    <tr>\n",
       "      <th>1</th>\n",
       "      <td>0.01</td>\n",
       "      <td>0.175357</td>\n",
       "      <td>0.049992</td>\n",
       "      <td>0.139948</td>\n",
       "      <td>0.189940</td>\n",
       "      <td>0.972625</td>\n",
       "      <td>0.922633</td>\n",
       "      <td>0.812477</td>\n",
       "      <td>0.637120</td>\n",
       "      <td>0.742674</td>\n",
       "      <td>0.602726</td>\n",
       "      <td>0.474459</td>\n",
       "      <td>0.453755</td>\n",
       "      <td>0.467630</td>\n",
       "    </tr>\n",
       "    <tr>\n",
       "      <th>2</th>\n",
       "      <td>0.02</td>\n",
       "      <td>0.182735</td>\n",
       "      <td>0.051178</td>\n",
       "      <td>0.144636</td>\n",
       "      <td>0.195814</td>\n",
       "      <td>0.964573</td>\n",
       "      <td>0.913395</td>\n",
       "      <td>0.793535</td>\n",
       "      <td>0.610801</td>\n",
       "      <td>0.718986</td>\n",
       "      <td>0.574350</td>\n",
       "      <td>0.488513</td>\n",
       "      <td>0.478088</td>\n",
       "      <td>0.485074</td>\n",
       "    </tr>\n",
       "    <tr>\n",
       "      <th>3</th>\n",
       "      <td>0.03</td>\n",
       "      <td>0.186837</td>\n",
       "      <td>0.054028</td>\n",
       "      <td>0.146743</td>\n",
       "      <td>0.200771</td>\n",
       "      <td>0.959340</td>\n",
       "      <td>0.905312</td>\n",
       "      <td>0.781498</td>\n",
       "      <td>0.594662</td>\n",
       "      <td>0.703983</td>\n",
       "      <td>0.557240</td>\n",
       "      <td>0.497373</td>\n",
       "      <td>0.492489</td>\n",
       "      <td>0.495762</td>\n",
       "    </tr>\n",
       "    <tr>\n",
       "      <th>4</th>\n",
       "      <td>0.04</td>\n",
       "      <td>0.193670</td>\n",
       "      <td>0.055119</td>\n",
       "      <td>0.152312</td>\n",
       "      <td>0.207431</td>\n",
       "      <td>0.953502</td>\n",
       "      <td>0.898383</td>\n",
       "      <td>0.769461</td>\n",
       "      <td>0.575791</td>\n",
       "      <td>0.689244</td>\n",
       "      <td>0.536931</td>\n",
       "      <td>0.505866</td>\n",
       "      <td>0.509870</td>\n",
       "      <td>0.507186</td>\n",
       "    </tr>\n",
       "  </tbody>\n",
       "</table>\n",
       "</div>"
      ],
      "text/plain": [
       "   thresholds  positivity_rate_differences  tpr_differences  fpr_differences  \\\n",
       "0        0.00                     0.156798         0.031336         0.128391   \n",
       "1        0.01                     0.175357         0.049992         0.139948   \n",
       "2        0.02                     0.182735         0.051178         0.144636   \n",
       "3        0.03                     0.186837         0.054028         0.146743   \n",
       "4        0.04                     0.193670         0.055119         0.152312   \n",
       "\n",
       "   eqodds_differences     tpr_A     tpr_B  selection_A  selection_B     fpr_A  \\\n",
       "0            0.159727  0.981683  0.950346     0.843700     0.686903  0.783559   \n",
       "1            0.189940  0.972625  0.922633     0.812477     0.637120  0.742674   \n",
       "2            0.195814  0.964573  0.913395     0.793535     0.610801  0.718986   \n",
       "3            0.200771  0.959340  0.905312     0.781498     0.594662  0.703983   \n",
       "4            0.207431  0.953502  0.898383     0.769461     0.575791  0.689244   \n",
       "\n",
       "      fpr_B     acc_A     acc_B  acc_overall  \n",
       "0  0.655168  0.448735  0.409932     0.435936  \n",
       "1  0.602726  0.474459  0.453755     0.467630  \n",
       "2  0.574350  0.488513  0.478088     0.485074  \n",
       "3  0.557240  0.497373  0.492489     0.495762  \n",
       "4  0.536931  0.505866  0.509870     0.507186  "
      ]
     },
     "execution_count": 51,
     "metadata": {},
     "output_type": "execute_result"
    }
   ],
   "source": [
    "res_tmp.head()"
   ]
  },
  {
   "cell_type": "code",
   "execution_count": 59,
   "metadata": {},
   "outputs": [],
   "source": [
    "res_orig = get_eval_single(allscores.label.values, allscores['score'].values, allscores.group.values)    "
   ]
  },
  {
   "cell_type": "code",
   "execution_count": 60,
   "metadata": {},
   "outputs": [],
   "source": [
    "res_ours = get_eval_single(allscores.label.values, allscores['ours_tpr'].values, allscores.group.values)"
   ]
  },
  {
   "cell_type": "code",
   "execution_count": 52,
   "metadata": {},
   "outputs": [],
   "source": [
    "import matplotlib.pyplot as plt"
   ]
  },
  {
   "cell_type": "code",
   "execution_count": 116,
   "metadata": {},
   "outputs": [
    {
     "data": {
      "text/plain": [
       "<matplotlib.legend.Legend at 0x7f469bee6be0>"
      ]
     },
     "execution_count": 116,
     "metadata": {},
     "output_type": "execute_result"
    },
    {
     "data": {
      "image/png": "[encoded data removed]",
      "text/plain": [
       "<Figure size 432x288 with 1 Axes>"
      ]
     },
     "metadata": {
      "needs_background": "light"
     },
     "output_type": "display_data"
    }
   ],
   "source": [
    "plt.plot([0, 1], [0, 0])\n",
    "plt.plot(res_tmp['thresholds'], res_tmp['tpr_differences'], label='pleiss_tpr')\n",
    "plt.plot(res_tmp['thresholds'], res_ours['tpr_differences'], label='ours_tpr')\n",
    "plt.plot(res_tmp['thresholds'], res_orig['tpr_differences'], label='orig')\n",
    "\n",
    "plt.legend()"
   ]
  },
  {
   "cell_type": "code",
   "execution_count": 48,
   "metadata": {},
   "outputs": [
    {
     "data": {
      "text/html": [
       "<div>\n",
       "<style scoped>\n",
       "    .dataframe tbody tr th:only-of-type {\n",
       "        vertical-align: middle;\n",
       "    }\n",
       "\n",
       "    .dataframe tbody tr th {\n",
       "        vertical-align: top;\n",
       "    }\n",
       "\n",
       "    .dataframe thead th {\n",
       "        text-align: right;\n",
       "    }\n",
       "</style>\n",
       "<table border=\"1\" class=\"dataframe\">\n",
       "  <thead>\n",
       "    <tr style=\"text-align: right;\">\n",
       "      <th></th>\n",
       "      <th>method</th>\n",
       "      <th>avg_prd</th>\n",
       "      <th>avg_tprd</th>\n",
       "      <th>avg_eod</th>\n",
       "      <th>avg_acc</th>\n",
       "      <th>acc_05</th>\n",
       "      <th>eod_05</th>\n",
       "      <th>prd_05</th>\n",
       "      <th>tprd_05</th>\n",
       "    </tr>\n",
       "  </thead>\n",
       "  <tbody>\n",
       "    <tr>\n",
       "      <th>0</th>\n",
       "      <td>uncorrected</td>\n",
       "      <td>0.096611</td>\n",
       "      <td>0.048576</td>\n",
       "      <td>0.070793</td>\n",
       "      <td>0.769545</td>\n",
       "      <td>0.819745</td>\n",
       "      <td>0.080760</td>\n",
       "      <td>0.098445</td>\n",
       "      <td>0.066211</td>\n",
       "    </tr>\n",
       "    <tr>\n",
       "      <th>1</th>\n",
       "      <td>pleiss_tpr</td>\n",
       "      <td>0.104847</td>\n",
       "      <td>0.058683</td>\n",
       "      <td>0.115916</td>\n",
       "      <td>0.745334</td>\n",
       "      <td>0.806683</td>\n",
       "      <td>0.033452</td>\n",
       "      <td>0.057812</td>\n",
       "      <td>0.032823</td>\n",
       "    </tr>\n",
       "    <tr>\n",
       "      <th>2</th>\n",
       "      <td>pleiss_fpr</td>\n",
       "      <td>0.096611</td>\n",
       "      <td>0.048576</td>\n",
       "      <td>0.070793</td>\n",
       "      <td>0.769545</td>\n",
       "      <td>0.819745</td>\n",
       "      <td>0.080760</td>\n",
       "      <td>0.098445</td>\n",
       "      <td>0.066211</td>\n",
       "    </tr>\n",
       "    <tr>\n",
       "      <th>3</th>\n",
       "      <td>pleiss_weighted</td>\n",
       "      <td>0.229420</td>\n",
       "      <td>0.430870</td>\n",
       "      <td>0.572486</td>\n",
       "      <td>0.765033</td>\n",
       "      <td>0.822857</td>\n",
       "      <td>0.548056</td>\n",
       "      <td>0.195527</td>\n",
       "      <td>0.473833</td>\n",
       "    </tr>\n",
       "    <tr>\n",
       "      <th>4</th>\n",
       "      <td>ours_fullrep</td>\n",
       "      <td>0.005846</td>\n",
       "      <td>0.091005</td>\n",
       "      <td>0.154092</td>\n",
       "      <td>0.754395</td>\n",
       "      <td>0.804226</td>\n",
       "      <td>0.179278</td>\n",
       "      <td>0.000542</td>\n",
       "      <td>0.111132</td>\n",
       "    </tr>\n",
       "    <tr>\n",
       "      <th>5</th>\n",
       "      <td>ours_tpr</td>\n",
       "      <td>0.067520</td>\n",
       "      <td>0.021869</td>\n",
       "      <td>0.034724</td>\n",
       "      <td>0.764304</td>\n",
       "      <td>0.813603</td>\n",
       "      <td>0.019602</td>\n",
       "      <td>0.064052</td>\n",
       "      <td>0.006165</td>\n",
       "    </tr>\n",
       "    <tr>\n",
       "      <th>6</th>\n",
       "      <td>ours_fpr</td>\n",
       "      <td>0.079006</td>\n",
       "      <td>0.027099</td>\n",
       "      <td>0.037150</td>\n",
       "      <td>0.766139</td>\n",
       "      <td>0.816019</td>\n",
       "      <td>0.038089</td>\n",
       "      <td>0.080576</td>\n",
       "      <td>0.037523</td>\n",
       "    </tr>\n",
       "    <tr>\n",
       "      <th>7</th>\n",
       "      <td>ours_sketcheo</td>\n",
       "      <td>0.073238</td>\n",
       "      <td>0.023856</td>\n",
       "      <td>0.034736</td>\n",
       "      <td>0.765146</td>\n",
       "      <td>0.814627</td>\n",
       "      <td>0.030713</td>\n",
       "      <td>0.070100</td>\n",
       "      <td>0.021388</td>\n",
       "    </tr>\n",
       "  </tbody>\n",
       "</table>\n",
       "</div>"
      ],
      "text/plain": [
       "            method   avg_prd  avg_tprd   avg_eod   avg_acc    acc_05  \\\n",
       "0      uncorrected  0.096611  0.048576  0.070793  0.769545  0.819745   \n",
       "1       pleiss_tpr  0.104847  0.058683  0.115916  0.745334  0.806683   \n",
       "2       pleiss_fpr  0.096611  0.048576  0.070793  0.769545  0.819745   \n",
       "3  pleiss_weighted  0.229420  0.430870  0.572486  0.765033  0.822857   \n",
       "4     ours_fullrep  0.005846  0.091005  0.154092  0.754395  0.804226   \n",
       "5         ours_tpr  0.067520  0.021869  0.034724  0.764304  0.813603   \n",
       "6         ours_fpr  0.079006  0.027099  0.037150  0.766139  0.816019   \n",
       "7    ours_sketcheo  0.073238  0.023856  0.034736  0.765146  0.814627   \n",
       "\n",
       "     eod_05    prd_05   tprd_05  \n",
       "0  0.080760  0.098445  0.066211  \n",
       "1  0.033452  0.057812  0.032823  \n",
       "2  0.080760  0.098445  0.066211  \n",
       "3  0.548056  0.195527  0.473833  \n",
       "4  0.179278  0.000542  0.111132  \n",
       "5  0.019602  0.064052  0.006165  \n",
       "6  0.038089  0.080576  0.037523  \n",
       "7  0.030713  0.070100  0.021388  "
      ]
     },
     "execution_count": 48,
     "metadata": {},
     "output_type": "execute_result"
    }
   ],
   "source": [
    "all_results"
   ]
  },
  {
   "cell_type": "code",
   "execution_count": null,
   "metadata": {},
   "outputs": [],
   "source": []
  },
  {
   "cell_type": "code",
   "execution_count": 3,
   "metadata": {},
   "outputs": [],
   "source": [
    "scores = pd.read_csv('fair_baselines/adult_new_results/pleiss__scores.csv')"
   ]
  },
  {
   "cell_type": "code",
   "execution_count": 5,
   "metadata": {},
   "outputs": [
    {
     "data": {
      "text/plain": [
       "array([0, 1, 2, 3, 4, 5, 6, 7, 8, 9])"
      ]
     },
     "execution_count": 5,
     "metadata": {},
     "output_type": "execute_result"
    }
   ],
   "source": [
    "scores.trial.unique()"
   ]
  },
  {
   "cell_type": "code",
   "execution_count": 4,
   "metadata": {},
   "outputs": [
    {
     "data": {
      "text/plain": [
       "0.8944405559444055"
      ]
     },
     "execution_count": 4,
     "metadata": {},
     "output_type": "execute_result"
    }
   ],
   "source": [
    "np.mean(scores.score == scores.scores_tpr)"
   ]
  }
 ],
 "metadata": {
  "interpreter": {
   "hash": "5c5b6e23e2039ba026f415e82c4b975cdb6bfdecf273cac0fd6224ba3f1d87c6"
  },
  "kernelspec": {
   "display_name": "Python 3.8.5 ('base')",
   "language": "python",
   "name": "python3"
  },
  "language_info": {
   "codemirror_mode": {
    "name": "ipython",
    "version": 3
   },
   "file_extension": ".py",
   "mimetype": "text/x-python",
   "name": "python",
   "nbconvert_exporter": "python",
   "pygments_lexer": "ipython3",
   "version": "3.8.5"
  },
  "orig_nbformat": 4
 },
 "nbformat": 4,
 "nbformat_minor": 2
}
