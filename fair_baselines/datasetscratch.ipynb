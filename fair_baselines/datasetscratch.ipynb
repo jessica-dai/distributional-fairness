{
 "cells": [
  {
   "cell_type": "code",
   "execution_count": 1,
   "metadata": {},
   "outputs": [
    {
     "name": "stderr",
     "output_type": "stream",
     "text": [
      "/Users/jessicadai/miniconda3/envs/distfair/lib/python3.10/site-packages/tqdm/auto.py:22: TqdmWarning: IProgress not found. Please update jupyter and ipywidgets. See https://ipywidgets.readthedocs.io/en/stable/user_install.html\n",
      "  from .autonotebook import tqdm as notebook_tqdm\n",
      "WARNING:root:No module named 'tensorflow': AdversarialDebiasing will be unavailable. To install, run:\n",
      "pip install 'aif360[AdversarialDebiasing]'\n",
      "WARNING:root:No module named 'tensorflow': AdversarialDebiasing will be unavailable. To install, run:\n",
      "pip install 'aif360[AdversarialDebiasing]'\n"
     ]
    }
   ],
   "source": [
    "import numpy as np\n",
    "import pandas as pd\n",
    "\n",
    "from folktables import adult_filter, public_coverage_filter, ACSIncome, ACSPublicCoverage, ACSMobility, ACSEmployment, BasicProblem\n",
    "from aif360.datasets.adult_dataset import AdultDataset\n",
    "from aif360.datasets.binary_label_dataset import BinaryLabelDataset\n",
    "\n",
    "from feldman import gen_feldman_probs\n",
    "from datasets import gen_new_adult"
   ]
  },
  {
   "cell_type": "code",
   "execution_count": 2,
   "metadata": {},
   "outputs": [],
   "source": [
    "ad = gen_new_adult(0, False, interv=True)"
   ]
  },
  {
   "cell_type": "code",
   "execution_count": 14,
   "metadata": {},
   "outputs": [],
   "source": [
    "acs_data = pd.read_csv('../data_raw/acs_data.csv')\n",
    "df = ACSIncome.df_to_numpy(acs_data)"
   ]
  },
  {
   "cell_type": "code",
   "execution_count": 15,
   "metadata": {},
   "outputs": [
    {
     "data": {
      "text/plain": [
       "(array([[30.,  6., 14., ..., 40.,  1.,  8.],\n",
       "        [21.,  4., 16., ..., 20.,  1.,  1.],\n",
       "        [65.,  2., 22., ...,  8.,  1.,  1.],\n",
       "        ...,\n",
       "        [61.,  1., 19., ..., 45.,  1.,  1.],\n",
       "        [69.,  7., 24., ..., 45.,  1.,  6.],\n",
       "        [40.,  1., 17., ..., 40.,  1.,  8.]]),\n",
       " array([False, False, False, ...,  True, False, False]),\n",
       " array([8, 1, 1, ..., 1, 6, 8]))"
      ]
     },
     "execution_count": 15,
     "metadata": {},
     "output_type": "execute_result"
    }
   ],
   "source": [
    "df"
   ]
  },
  {
   "cell_type": "code",
   "execution_count": 3,
   "metadata": {},
   "outputs": [
    {
     "name": "stdout",
     "output_type": "stream",
     "text": [
      "0.6175\n",
      "0.6175\n",
      "0.6175\n",
      "0.6175\n",
      "0.6175\n",
      "0.6175\n",
      "0.6175\n",
      "0.6175\n",
      "0.6175\n",
      "0.6175\n"
     ]
    },
    {
     "data": {
      "text/plain": [
       "(      scores_pr  scores_tpr  scores_eo  scores_acc  label  group\n",
       " 0      0.208278    0.206683   0.206957    0.208161    0.0    0.0\n",
       " 1      0.222565    0.222361   0.222410    0.222433    1.0    1.0\n",
       " 2      0.219234    0.220911   0.220717    0.219000    0.0    1.0\n",
       " 3      0.245185    0.248927   0.248356    0.245722    0.0    1.0\n",
       " 4      0.372425    0.380582   0.378658    0.373497    0.0    1.0\n",
       " ...         ...         ...        ...         ...    ...    ...\n",
       " 9995   0.209046    0.208088   0.208399    0.208964    0.0    1.0\n",
       " 9996   0.218909    0.216792   0.217030    0.218653    0.0    0.0\n",
       " 9997   0.618651    0.624842   0.622823    0.619169    1.0    0.0\n",
       " 9998   0.721042    0.722162   0.721495    0.721146    0.0    1.0\n",
       " 9999   0.218985    0.219191   0.219593    0.219258    0.0    1.0\n",
       " \n",
       " [10000 rows x 6 columns],\n",
       " {'pr': 1.0, 'tpr': 0.1, 'eo': 0.2, 'acc': 0.9},\n",
       "    repairlevel   avg_prd  avg_tprd   avg_eod   avg_acc    05_prd   05_tprd  \\\n",
       " 0          0.1  0.016780  0.014869  0.023921  0.620720  0.018464 -0.054150   \n",
       " 1          0.2  0.016015  0.015588  0.023883  0.620459  0.018040 -0.054573   \n",
       " 2          0.3  0.015980  0.015669  0.024138  0.620325  0.017716 -0.055420   \n",
       " 3          0.4  0.015463  0.016057  0.024159  0.620190  0.017455 -0.056299   \n",
       " 4          0.5  0.015098  0.016281  0.024341  0.620227  0.017716 -0.055420   \n",
       " 5          0.6  0.014966  0.016342  0.024397  0.620123  0.017554 -0.055843   \n",
       " 6          0.7  0.014340  0.016945  0.024589  0.620002  0.017293 -0.056722   \n",
       " 7          0.8  0.014102  0.016951  0.024623  0.619943  0.017554 -0.055843   \n",
       " 8          0.9  0.013593  0.017283  0.024810  0.619819  0.017032 -0.056722   \n",
       " 9          1.0  0.013398  0.017672  0.025295  0.619819  0.016870 -0.056722   \n",
       " \n",
       "      05_eod  05_acc  \n",
       " 0  0.066538  0.7344  \n",
       " 1  0.066589  0.7342  \n",
       " 2  0.067436  0.7340  \n",
       " 3  0.068315  0.7341  \n",
       " 4  0.067436  0.7340  \n",
       " 5  0.067859  0.7339  \n",
       " 6  0.068738  0.7340  \n",
       " 7  0.067859  0.7339  \n",
       " 8  0.068366  0.7339  \n",
       " 9  0.068104  0.7340  )"
      ]
     },
     "execution_count": 3,
     "metadata": {},
     "output_type": "execute_result"
    }
   ],
   "source": [
    "gen_feldman_probs(dataset='adult_new')"
   ]
  },
  {
   "cell_type": "code",
   "execution_count": null,
   "metadata": {},
   "outputs": [],
   "source": []
  },
  {
   "cell_type": "code",
   "execution_count": null,
   "metadata": {},
   "outputs": [],
   "source": []
  }
 ],
 "metadata": {
  "kernelspec": {
   "display_name": "Python 3.10.6 ('distfair')",
   "language": "python",
   "name": "python3"
  },
  "language_info": {
   "codemirror_mode": {
    "name": "ipython",
    "version": 3
   },
   "file_extension": ".py",
   "mimetype": "text/x-python",
   "name": "python",
   "nbconvert_exporter": "python",
   "pygments_lexer": "ipython3",
   "version": "3.10.6"
  },
  "orig_nbformat": 4,
  "vscode": {
   "interpreter": {
    "hash": "37d2a30c9943874d043b6b284191189f3a16921052beeb845a6a98bb4526175f"
   }
  }
 },
 "nbformat": 4,
 "nbformat_minor": 2
}
